{
 "cells": [
  {
   "cell_type": "code",
   "execution_count": 9,
   "id": "c897ba48",
   "metadata": {},
   "outputs": [
    {
     "name": "stdout",
     "output_type": "stream",
     "text": [
      "Product Name:  Grade A White Eggs\n",
      "Price:  2.98\n",
      "Description:  1 dozen fresh eggs\n",
      "\n",
      "Product Name:  Reduced Fat Milk\n",
      "Price:  1.49\n",
      "Description:  1 gallon of milk\n",
      "\n",
      "Product Name:  Cuties Oranges\n",
      "Price:  4.99\n",
      "Description:  2 lbs of sweet oranges\n",
      "\n",
      "Product Name:  Green Grapes\n",
      "Price:  5.98\n",
      "Description:  2 lbs of fresh grapes\n",
      "\n",
      "Product Name:  Pepsi Soda Cans\n",
      "Price:  12.99\n",
      "Description:  24 cans of Pepsi soda\n",
      "\n",
      "Product Name:  Purified Water Bottles\n",
      "Price:  3.69\n",
      "Description:  24 bottles of purified water\n",
      "\n",
      "Product Name:  Fresh Blueberries\n",
      "Price:  6.49\n",
      "Description:  1 pint of fresh blueberries\n",
      "\n",
      "Product Name:  Original Sour Cream\n",
      "Price:  1.99\n",
      "Description:  1 container of sour cream\n",
      "\n",
      "Product Name:  Shredded Cheese\n",
      "Price:  2.49\n",
      "Description:  8 oz of shredded cheese\n",
      "\n",
      "Product Name:  Fresh Chicken Breasts\n",
      "Price:  14.14\n",
      "Description:  3 lbs of fresh chicken breasts\n",
      "\n",
      "Product Name:  Hot Dog Buns\n",
      "Price:  1.79\n",
      "Description:  8-pack of hot dog buns\n",
      "\n",
      "Product Name:  Apple Juice\n",
      "Price:  2.49\n",
      "Description:  1 gallon of apple juice\n",
      "\n"
     ]
    }
   ],
   "source": [
    "class Product():\n",
    "    def __init__(self, name, price, description):\n",
    "        self.name = name.title()\n",
    "        self.price = price\n",
    "        self.description = description\n",
    "        \n",
    "class Cart():\n",
    "\n",
    "    def __init__(self):\n",
    "        self.items = []\n",
    "    \n",
    "    def add_item(self, product):\n",
    "        self.items.append(product)\n",
    "        \n",
    "    def remove_item(self, product):\n",
    "        self.items.remove(product)\n",
    "    \n",
    "    def total_price(self):\n",
    "        return sum([item.price for item in self.items])\n",
    "\n",
    "# Create product objects\n",
    "\n",
    "grade_a_white_eggs = Product(\"Grade A White Eggs\", 2.98, \"1 dozen fresh eggs\")\n",
    "\n",
    "reduced_fat_milk = Product(\"Reduced Fat Milk\", 1.49, \"1 gallon of milk\")\n",
    "\n",
    "cuties_oranges = Product(\"Cuties Oranges\", 4.99, \"2 lbs of sweet oranges\")\n",
    "\n",
    "green_grapes = Product(\"Green Grapes\", 5.98, \"2 lbs of fresh grapes\")\n",
    "\n",
    "pepsi_soda_cans = Product(\"Pepsi Soda Cans\", 12.99, \"24 cans of Pepsi soda\")\n",
    "\n",
    "purified_water_bottles = Product(\"Purified Water Bottles\", 3.69, \"24 bottles of purified water\")\n",
    "\n",
    "fresh_blueberries = Product(\"Fresh Blueberries\", 6.49, \"1 pint of fresh blueberries\")\n",
    "\n",
    "original_sour_cream = Product(\"Original Sour Cream\", 1.99, \"1 container of sour cream\")\n",
    "\n",
    "shredded_cheese = Product(\"Shredded Cheese\", 2.49, \"8 oz of shredded cheese\")\n",
    "\n",
    "fresh_chicken_breasts = Product(\"Fresh Chicken Breasts\", 14.14, \"3 lbs of fresh chicken breasts\")\n",
    "\n",
    "hot_dog_buns = Product(\"Hot Dog Buns\", 1.79, \"8-pack of hot dog buns\")\n",
    "\n",
    "apple_juice = Product(\"Apple Juice\", 2.49, \"1 gallon of apple juice\")\n",
    "\n",
    "# Loop through each product object and print its attributes\n",
    "for item in [grade_a_white_eggs, reduced_fat_milk, cuties_oranges, green_grapes, pepsi_soda_cans, \n",
    "             purified_water_bottles, fresh_blueberries, original_sour_cream, shredded_cheese, \n",
    "             fresh_chicken_breasts, hot_dog_buns, apple_juice]:\n",
    "    print(\"Product Name: \", item.name)\n",
    "    print(\"Price: \", item.price)\n",
    "    print(\"Description: \", item.description)\n",
    "    print()\n"
   ]
  },
  {
   "cell_type": "code",
   "execution_count": 10,
   "id": "706c9bef",
   "metadata": {},
   "outputs": [
    {
     "name": "stdout",
     "output_type": "stream",
     "text": [
      "Cart Items:\n",
      "Grade A White Eggs - $2.98\n",
      "Cuties Oranges - $4.99\n",
      "Pepsi Soda Cans - $12.99\n",
      "Fresh Blueberries - $6.49\n",
      "Fresh Chicken Breasts - $14.14\n",
      "Apple Juice - $2.49\n",
      "Total Price: $44.08\n"
     ]
    }
   ],
   "source": [
    "# Create a Cart object\n",
    "my_cart = Cart()\n",
    "\n",
    "# Add six items to the cart\n",
    "my_cart.add_item(grade_a_white_eggs)\n",
    "my_cart.add_item(cuties_oranges)\n",
    "my_cart.add_item(pepsi_soda_cans)\n",
    "my_cart.add_item(fresh_blueberries)\n",
    "my_cart.add_item(fresh_chicken_breasts)\n",
    "my_cart.add_item(apple_juice)\n",
    "\n",
    "# Print Cart Items and Total Price\n",
    "print(\"Cart Items:\")\n",
    "\n",
    "for item in my_cart.items:\n",
    "\n",
    "    print(f\"{item.name} - ${item.price:.2f}\") \n",
    "    #2f is a string formatting code that can format a floating point number to a string with 2 decimal places\n",
    "\n",
    "print(f\"Total Price: ${my_cart.total_price():.2f}\")"
   ]
  },
  {
   "cell_type": "code",
   "execution_count": 11,
   "id": "3a8d551a",
   "metadata": {},
   "outputs": [
    {
     "name": "stdout",
     "output_type": "stream",
     "text": [
      "Cart Items:\n",
      "Grade A White Eggs - $2.98\n",
      "Cuties Oranges - $4.99\n",
      "Pepsi Soda Cans - $12.99\n",
      "Fresh Chicken Breasts - $14.14\n",
      "Total Price: $35.10\n"
     ]
    }
   ],
   "source": [
    "my_cart.remove_item(fresh_blueberries)\n",
    "my_cart.remove_item(apple_juice)\n",
    "\n",
    "print(\"Cart Items:\")\n",
    "\n",
    "for item in my_cart.items:\n",
    "\n",
    "    print(f\"{item.name} - ${item.price:.2f}\")\n",
    "\n",
    "print(f\"Total Price: ${my_cart.total_price():.2f}\")"
   ]
  },
  {
   "cell_type": "code",
   "execution_count": null,
   "id": "c75f13d1",
   "metadata": {},
   "outputs": [],
   "source": []
  }
 ],
 "metadata": {
  "kernelspec": {
   "display_name": "Python 3 (ipykernel)",
   "language": "python",
   "name": "python3"
  },
  "language_info": {
   "codemirror_mode": {
    "name": "ipython",
    "version": 3
   },
   "file_extension": ".py",
   "mimetype": "text/x-python",
   "name": "python",
   "nbconvert_exporter": "python",
   "pygments_lexer": "ipython3",
   "version": "3.9.13"
  }
 },
 "nbformat": 4,
 "nbformat_minor": 5
}
